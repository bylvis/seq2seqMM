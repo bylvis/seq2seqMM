{
 "cells": [
  {
   "cell_type": "code",
   "execution_count": 1,
   "id": "d186e132",
   "metadata": {},
   "outputs": [],
   "source": [
    "import os\n",
    "os.environ[\"KMP_DUPLICATE_LIB_OK\"]=\"TRUE\"\n",
    "from torch.utils.data import DataLoader\n",
    "from torch.utils.data import TensorDataset\n",
    "import torch.nn as nn\n",
    "import numpy as np\n",
    "import torch"
   ]
  },
  {
   "cell_type": "code",
   "execution_count": 2,
   "id": "2014ad99",
   "metadata": {},
   "outputs": [],
   "source": [
    "x=np.linspace(-2*np.pi,2*np.pi,400)\n",
    "y=np.sin(x)*2 + np.sin(2*x)\n",
    "# 将数据做成数据集的模样\n",
    "X=np.expand_dims(x,axis=1)\n",
    "Y=y.reshape(400,-1)\n",
    "# 使用批训练方式\n",
    "dataset=TensorDataset(torch.tensor(X,dtype=torch.float),torch.tensor(Y,dtype=torch.float))\n",
    "dataloader=DataLoader(dataset,batch_size=100,shuffle=True)"
   ]
  },
  {
   "cell_type": "code",
   "execution_count": 4,
   "id": "5ddb286a",
   "metadata": {},
   "outputs": [],
   "source": [
    "class Net(nn.Module):\n",
    "    def __init__(self):\n",
    "        super(Net, self).__init__()\n",
    "        self.net=nn.Sequential(\n",
    "            nn.Linear(in_features=1,out_features=10),nn.ReLU(),\n",
    "            nn.Linear(10,100),nn.ReLU(),\n",
    "            nn.Linear(100,10),nn.ReLU(),\n",
    "            nn.Linear(10,1)\n",
    "        )\n",
    "\n",
    "    def forward(self, input:torch.FloatTensor):\n",
    "        return self.net(input)"
   ]
  },
  {
   "cell_type": "code",
   "execution_count": 5,
   "id": "bbe61b61",
   "metadata": {},
   "outputs": [
    {
     "name": "stdout",
     "output_type": "stream",
     "text": [
      "step: 100 , loss: 0.32350417971611023\n",
      "step: 200 , loss: 0.1872817575931549\n",
      "step: 300 , loss: 0.2680923044681549\n",
      "step: 400 , loss: 0.3586548864841461\n",
      "step: 500 , loss: 0.20949995517730713\n",
      "step: 600 , loss: 0.285740464925766\n",
      "step: 700 , loss: 0.15657201409339905\n",
      "step: 800 , loss: 0.14213795959949493\n",
      "step: 900 , loss: 0.15215365588665009\n",
      "step: 1000 , loss: 0.13620030879974365\n",
      "step: 1100 , loss: 0.09225461632013321\n",
      "step: 1200 , loss: 0.06035152077674866\n",
      "step: 1300 , loss: 0.04525972530245781\n",
      "step: 1400 , loss: 0.041532061994075775\n",
      "step: 1500 , loss: 0.02622954174876213\n",
      "step: 1600 , loss: 0.015241549350321293\n",
      "step: 1700 , loss: 0.019530368968844414\n",
      "step: 1800 , loss: 0.014063370414078236\n",
      "step: 1900 , loss: 0.010123073123395443\n",
      "step: 2000 , loss: 0.00516984099522233\n",
      "step: 2100 , loss: 0.004484002944082022\n",
      "step: 2200 , loss: 0.0030915532261133194\n",
      "step: 2300 , loss: 0.005456215236335993\n",
      "step: 2400 , loss: 0.0038653539959341288\n",
      "step: 2500 , loss: 0.0030236211605370045\n",
      "step: 2600 , loss: 0.002667285269126296\n",
      "step: 2700 , loss: 0.001988253789022565\n",
      "step: 2800 , loss: 0.001577991060912609\n",
      "step: 2900 , loss: 0.003080453025177121\n",
      "step: 3000 , loss: 0.005061355419456959\n"
     ]
    }
   ],
   "source": [
    "net=Net()\n",
    "# 定义优化器和损失函数 学习率0.001\n",
    "optim=torch.optim.Adam(Net.parameters(net),lr=0.001)\n",
    "Loss=nn.MSELoss()\n",
    "for epoch in range(3000):\n",
    "    loss=None\n",
    "    for batch_x,batch_y in dataloader:\n",
    "        y_predict=net(batch_x)\n",
    "        loss=Loss(y_predict,batch_y)\n",
    "        optim.zero_grad()\n",
    "        loss.backward()\n",
    "        optim.step()\n",
    "    # 每100次 的时候打印一次日志\n",
    "    if (epoch+1)%100==0:\n",
    "        print(\"step: {0} , loss: {1}\".format(epoch+1,loss.item()))"
   ]
  },
  {
   "cell_type": "code",
   "execution_count": 6,
   "id": "8b1ae600",
   "metadata": {},
   "outputs": [
    {
     "data": {
      "image/png": "[encoded data removed]",
      "text/plain": [
       "<Figure size 432x288 with 1 Axes>"
      ]
     },
     "metadata": {
      "needs_background": "light"
     },
     "output_type": "display_data"
    }
   ],
   "source": [
    "# 使用训练好的模型进行预测\n",
    "predict=net(torch.tensor(X,dtype=torch.float))\n",
    "\n",
    "# 绘图展示预测的和真实数据之间的差异\n",
    "import matplotlib.pyplot as plt\n",
    "plt.plot(x,y,label=\"fact\")\n",
    "plt.plot(x,predict.detach().numpy(),label=\"predict\")\n",
    "plt.title(\"sin function\")\n",
    "plt.xlabel(\"x\")\n",
    "plt.ylabel(\"sin(x)\")\n",
    "plt.legend()\n",
    "plt.savefig(fname=\"result.png\")\n",
    "plt.show()"
   ]
  },
  {
   "cell_type": "code",
   "execution_count": null,
   "id": "e8de54c9",
   "metadata": {},
   "outputs": [],
   "source": []
  }
 ],
 "metadata": {
  "hide_input": false,
  "kernelspec": {
   "display_name": "Python 3",
   "language": "python",
   "name": "python3"
  },
  "language_info": {
   "codemirror_mode": {
    "name": "ipython",
    "version": 3
   },
   "file_extension": ".py",
   "mimetype": "text/x-python",
   "name": "python",
   "nbconvert_exporter": "python",
   "pygments_lexer": "ipython3",
   "version": "3.6.13"
  },
  "toc": {
   "base_numbering": 1,
   "nav_menu": {},
   "number_sections": true,
   "sideBar": true,
   "skip_h1_title": false,
   "title_cell": "Table of Contents",
   "title_sidebar": "Contents",
   "toc_cell": false,
   "toc_position": {},
   "toc_section_display": true,
   "toc_window_display": false
  }
 },
 "nbformat": 4,
 "nbformat_minor": 5
}
