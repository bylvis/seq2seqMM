{
 "cells": [
  {
   "cell_type": "code",
   "execution_count": 14,
   "id": "e48e4f1f",
   "metadata": {
    "code_folding": [
     1
    ]
   },
   "outputs": [],
   "source": [
    "import numpy as np\n",
    "def get_dataset(data_path, num_samples):\n",
    "    # 两个空列表 英文和发文\n",
    "    input_texts = []\n",
    "    target_texts = []\n",
    "\n",
    "    # 两个空集合 存放字符\n",
    "    input_characters = set()\n",
    "    target_characters = set()\n",
    "\n",
    "    # 打开文件 读取每一行\n",
    "    with open(data_path, 'r', encoding='utf-8') as f:\n",
    "        lines = f.read().split('\\n')\n",
    "    for line in lines[: min(num_samples, len(lines) - 1)]:\n",
    "        input_text, target_text, _ = line.split('\\t')\n",
    "        # 用tab作用序列的开始，用\\n作为序列的结束\n",
    "        target_text = '\\t' + target_text + '\\n'\n",
    "\n",
    "        input_texts.append(input_text)\n",
    "        target_texts.append(target_text)\n",
    "\n",
    "        # 将英文字符加进去\n",
    "        for char in input_text:\n",
    "            if char not in input_characters:\n",
    "                input_characters.add(char)\n",
    "        # 将法文字符加进去\n",
    "        for char in target_text:\n",
    "            if char not in target_characters:\n",
    "                target_characters.add(char)\n",
    "\n",
    "    # 返回英文和法文的字符串  所有英文字符 所有法文字符\n",
    "    return input_texts,target_texts,input_characters,target_characters\n",
    "\n",
    "\n",
    "# 一共10000个样本\n",
    "num_samples = 10000\n",
    "\n",
    "# 读取数据集\n",
    "data_path = './data/fra.txt'\n",
    "\n",
    "# 获取数据集\n",
    "# 其中input_texts为输入的英文字符串 相当于噪声轨迹\n",
    "# target_texts为对应的法文字符串  相当于路网轨迹\n",
    "\n",
    "# input_characters用到的所有输入字符,如a,b,c,d,e,……,.,!等  相当于噪声所占的网格\n",
    "# target_characters用到的所有输出字符 相当于路网所占的网格\n",
    "input_texts,target_texts,input_characters,target_characters = get_dataset(data_path, num_samples)"
   ]
  },
  {
   "cell_type": "code",
   "execution_count": 17,
   "id": "e3b970a2",
   "metadata": {},
   "outputs": [
    {
     "name": "stdout",
     "output_type": "stream",
     "text": [
      "What's up? \tÇa va ?\n",
      "\n"
     ]
    }
   ],
   "source": [
    "print(input_texts[999],target_texts[999])"
   ]
  },
  {
   "cell_type": "code",
   "execution_count": 21,
   "id": "f0e0d2a8",
   "metadata": {},
   "outputs": [
    {
     "name": "stdout",
     "output_type": "stream",
     "text": [
      "{'O', 'T', 'R', 'E', 'l', 'j', 'K', 's', 'i', 'N', 'h', '.', 'F', '!', 'd', 'U', 'D', 't', '1', '%', 'k', ':', 'w', 'o', ' ', 'f', '7', 'b', 'e', 'x', 'M', '$', 'r', \"'\", '-', 'J', 'H', '?', 'u', '3', 'B', 'I', '&', 'G', 'y', 'Y', 'V', 'W', ',', '9', 'q', '0', '2', 'c', 'C', 'L', 'P', 'n', 'v', 'S', 'Q', 'p', 'a', 'A', 'z', '6', 'g', '5', '8', 'm'}\n"
     ]
    }
   ],
   "source": [
    "print(input_characters)"
   ]
  },
  {
   "cell_type": "code",
   "execution_count": 22,
   "id": "9e01220a",
   "metadata": {},
   "outputs": [],
   "source": [
    "# 对字符进行排序\n",
    "input_characters = sorted(list(input_characters))\n",
    "target_characters = sorted(list(target_characters))"
   ]
  },
  {
   "cell_type": "code",
   "execution_count": 68,
   "id": "5b40252e",
   "metadata": {},
   "outputs": [
    {
     "name": "stdout",
     "output_type": "stream",
     "text": [
      "[' ', '!', '$', '%', '&', \"'\", ',', '-', '.', '0', '1', '2', '3', '5', '6', '7', '8', '9', ':', '?', 'A', 'B', 'C', 'D', 'E', 'F', 'G', 'H', 'I', 'J', 'K', 'L', 'M', 'N', 'O', 'P', 'Q', 'R', 'S', 'T', 'U', 'V', 'W', 'Y', 'a', 'b', 'c', 'd', 'e', 'f', 'g', 'h', 'i', 'j', 'k', 'l', 'm', 'n', 'o', 'p', 'q', 'r', 's', 't', 'u', 'v', 'w', 'x', 'y', 'z']\n",
      "['\\t', '\\n', ' ', '!', '$', '%', '&', \"'\", '(', ')', ',', '-', '.', '0', '1', '2', '3', '5', '8', '9', ':', '?', 'A', 'B', 'C', 'D', 'E', 'F', 'G', 'H', 'I', 'J', 'K', 'L', 'M', 'N', 'O', 'P', 'Q', 'R', 'S', 'T', 'U', 'V', 'Y', 'a', 'b', 'c', 'd', 'e', 'f', 'g', 'h', 'i', 'j', 'k', 'l', 'm', 'n', 'o', 'p', 'q', 'r', 's', 't', 'u', 'v', 'x', 'y', 'z', '\\xa0', '«', '»', 'À', 'Ç', 'É', 'Ê', 'à', 'â', 'ç', 'è', 'é', 'ê', 'ë', 'î', 'ï', 'ô', 'ù', 'û', 'œ', '\\u2009', '’', '\\u202f']\n"
     ]
    }
   ],
   "source": [
    "print(input_characters)\n",
    "print(target_characters)"
   ]
  },
  {
   "cell_type": "code",
   "execution_count": 40,
   "id": "674a2fc6",
   "metadata": {},
   "outputs": [
    {
     "name": "stdout",
     "output_type": "stream",
     "text": [
      "70\n"
     ]
    }
   ],
   "source": [
    "# 计算共用到了什么字符\n",
    "num_encoder_tokens = len(input_characters)\n",
    "num_decoder_tokens = len(target_characters)\n",
    "# 计算出最长的序列是多长 用来定义LSTM的timeStep\n",
    "max_encoder_seq_length = max([len(txt) for txt in input_texts])\n",
    "max_decoder_seq_length = max([len(txt) for txt in target_texts])\n",
    "print(num_encoder_tokens)"
   ]
  },
  {
   "cell_type": "code",
   "execution_count": 48,
   "id": "1fee6944",
   "metadata": {},
   "outputs": [
    {
     "name": "stdout",
     "output_type": "stream",
     "text": [
      "一共有多少训练样本： 10000\n",
      "多少个英文字母： 70\n",
      "多少个法文字母： 93\n",
      "最大英文序列: 16\n",
      "最大法文序列: 59\n"
     ]
    }
   ],
   "source": [
    "print('一共有多少训练样本：', len(input_texts))\n",
    "print('多少个英文字母：', num_encoder_tokens)\n",
    "print('多少个法文字母：', num_decoder_tokens)\n",
    "print('最大英文序列:', max_encoder_seq_length)\n",
    "print('最大法文序列:', max_decoder_seq_length)"
   ]
  },
  {
   "cell_type": "code",
   "execution_count": 73,
   "id": "f7e973a0",
   "metadata": {},
   "outputs": [
    {
     "name": "stdout",
     "output_type": "stream",
     "text": [
      "69 88\n"
     ]
    },
    {
     "data": {
      "text/plain": [
       "{' ': 0,\n",
       " '!': 1,\n",
       " '$': 2,\n",
       " '%': 3,\n",
       " '&': 4,\n",
       " \"'\": 5,\n",
       " ',': 6,\n",
       " '-': 7,\n",
       " '.': 8,\n",
       " '0': 9,\n",
       " '1': 10,\n",
       " '2': 11,\n",
       " '3': 12,\n",
       " '5': 13,\n",
       " '6': 14,\n",
       " '7': 15,\n",
       " '8': 16,\n",
       " '9': 17,\n",
       " ':': 18,\n",
       " '?': 19,\n",
       " 'A': 20,\n",
       " 'B': 21,\n",
       " 'C': 22,\n",
       " 'D': 23,\n",
       " 'E': 24,\n",
       " 'F': 25,\n",
       " 'G': 26,\n",
       " 'H': 27,\n",
       " 'I': 28,\n",
       " 'J': 29,\n",
       " 'K': 30,\n",
       " 'L': 31,\n",
       " 'M': 32,\n",
       " 'N': 33,\n",
       " 'O': 34,\n",
       " 'P': 35,\n",
       " 'Q': 36,\n",
       " 'R': 37,\n",
       " 'S': 38,\n",
       " 'T': 39,\n",
       " 'U': 40,\n",
       " 'V': 41,\n",
       " 'W': 42,\n",
       " 'Y': 43,\n",
       " 'a': 44,\n",
       " 'b': 45,\n",
       " 'c': 46,\n",
       " 'd': 47,\n",
       " 'e': 48,\n",
       " 'f': 49,\n",
       " 'g': 50,\n",
       " 'h': 51,\n",
       " 'i': 52,\n",
       " 'j': 53,\n",
       " 'k': 54,\n",
       " 'l': 55,\n",
       " 'm': 56,\n",
       " 'n': 57,\n",
       " 'o': 58,\n",
       " 'p': 59,\n",
       " 'q': 60,\n",
       " 'r': 61,\n",
       " 's': 62,\n",
       " 't': 63,\n",
       " 'u': 64,\n",
       " 'v': 65,\n",
       " 'w': 66,\n",
       " 'x': 67,\n",
       " 'y': 68,\n",
       " 'z': 69}"
      ]
     },
     "execution_count": 73,
     "metadata": {},
     "output_type": "execute_result"
    }
   ],
   "source": [
    "# 建立字母到数字的映射  输入英文获得index\n",
    "input_token_index = dict(\n",
    "    [(char, i) for i, char in enumerate(input_characters)])\n",
    "#  输入法文 获得index\n",
    "target_token_index = dict(\n",
    "    [(char, i) for i, char in enumerate(target_characters)])\n",
    "print(input_token_index['z'],target_token_index['û'])\n",
    "input_token_index"
   ]
  },
  {
   "cell_type": "code",
   "execution_count": 41,
   "id": "6a17a42e",
   "metadata": {},
   "outputs": [],
   "source": [
    "#--------------------------------------#\n",
    "#   改变数据集的格式\n",
    "#--------------------------------------#\n",
    "encoder_input_data = np.zeros(\n",
    "    (len(input_texts), max_encoder_seq_length, num_encoder_tokens),\n",
    "    dtype='float32')\n",
    "\n",
    "decoder_input_data = np.zeros(\n",
    "    (len(input_texts), max_decoder_seq_length, num_decoder_tokens),\n",
    "    dtype='float32')\n",
    "    \n",
    "decoder_target_data = np.zeros(\n",
    "    (len(input_texts), max_decoder_seq_length, num_decoder_tokens),\n",
    "    dtype='float32')"
   ]
  },
  {
   "cell_type": "code",
   "execution_count": 80,
   "id": "b1657189",
   "metadata": {},
   "outputs": [],
   "source": [
    "# 将字符串转化为ont-hot编码格式\n",
    "for i, (input_text, target_text) in enumerate(zip(input_texts, target_texts)):\n",
    "    # 为末尾加上\" \"空格\n",
    "    for t, char in enumerate(input_text):\n",
    "        encoder_input_data[i, t, input_token_index[char]] = 1.\n",
    "    encoder_input_data[i, t + 1:, input_token_index[' ']] = 1.\n",
    "    \n",
    "    # 相当于前一个内容的识别结果，作为输入，传入到解码网络中\n",
    "    for t, char in enumerate(target_text):\n",
    "        decoder_input_data[i, t, target_token_index[char]] = 1.\n",
    "        if t > 0:\n",
    "            # decoder_target_data不包括第一个tab\n",
    "            decoder_target_data[i, t - 1, target_token_index[char]] = 1.\n",
    "    decoder_input_data[i, t + 1:, target_token_index[' ']] = 1.\n",
    "    decoder_target_data[i, t:, target_token_index[' ']] = 1.\n",
    "# encoder_input_data是一个三维数组 长度10000 第二个维度是一个单词 第三个维度是字母\n",
    "# encoder_input_data[0]是 GO. 有16个数组 只有前三个数组encoder_input_data[0][0]、[0][1]、[0][2]有1 剩下的数组都是0\n",
    "# encoder_input_data[0][0] 是G的one-hot编码 长度70 每一个位置都代表一个字母 整个数组中只有一个1 代表对应位置的字母\n",
    "# encoder_input_data[0][0][0] 是处于字典0位置的字母 是1的话表示是! 只有一个1"
   ]
  },
  {
   "cell_type": "code",
   "execution_count": 86,
   "id": "55018ce0",
   "metadata": {},
   "outputs": [
    {
     "data": {
      "text/plain": [
       "0.0"
      ]
     },
     "execution_count": 86,
     "metadata": {},
     "output_type": "execute_result"
    }
   ],
   "source": []
  },
  {
   "cell_type": "code",
   "execution_count": 56,
   "id": "d83158d2",
   "metadata": {},
   "outputs": [
    {
     "data": {
      "text/plain": [
       "93"
      ]
     },
     "execution_count": 56,
     "metadata": {},
     "output_type": "execute_result"
    }
   ],
   "source": []
  },
  {
   "cell_type": "code",
   "execution_count": null,
   "id": "4b282aca",
   "metadata": {},
   "outputs": [],
   "source": []
  }
 ],
 "metadata": {
  "hide_input": false,
  "kernelspec": {
   "display_name": "Python 3",
   "language": "python",
   "name": "python3"
  },
  "language_info": {
   "codemirror_mode": {
    "name": "ipython",
    "version": 3
   },
   "file_extension": ".py",
   "mimetype": "text/x-python",
   "name": "python",
   "nbconvert_exporter": "python",
   "pygments_lexer": "ipython3",
   "version": "3.6.13"
  },
  "toc": {
   "base_numbering": 1,
   "nav_menu": {},
   "number_sections": true,
   "sideBar": true,
   "skip_h1_title": false,
   "title_cell": "Table of Contents",
   "title_sidebar": "Contents",
   "toc_cell": false,
   "toc_position": {},
   "toc_section_display": true,
   "toc_window_display": false
  }
 },
 "nbformat": 4,
 "nbformat_minor": 5
}
